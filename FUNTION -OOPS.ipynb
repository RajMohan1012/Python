{
 "cells": [
  {
   "cell_type": "code",
   "execution_count": null,
   "metadata": {},
   "outputs": [],
   "source": [
    "#a function is block of code that can be used then it needs. code reuseability"
   ]
  },
  {
   "cell_type": "code",
   "execution_count": null,
   "metadata": {},
   "outputs": [],
   "source": [
    "#def is used to create a funtion\n",
    "\n",
    "#syntax:\n",
    "  def():\n",
    "        \n",
    "        \n",
    "    return variable"
   ]
  },
  {
   "cell_type": "code",
   "execution_count": 8,
   "metadata": {},
   "outputs": [
    {
     "name": "stdout",
     "output_type": "stream",
     "text": [
      "Enter your age: 34\n",
      "Adult\n"
     ]
    }
   ],
   "source": [
    "def agecal():\n",
    "    if(age<18):\n",
    "      print(\"children\")\n",
    "    elif(age<35):\n",
    "       print(\"Adult\")\n",
    "    elif(age<59):\n",
    "      print(\"citizen\")\n",
    "    else:\n",
    "     print(\"serinor citizen\") \n",
    "     return res \n",
    "    \n",
    "age=int(input(\"Enter your age: \"))\n",
    "agecal()\n",
    "\n"
   ]
  },
  {
   "cell_type": "code",
   "execution_count": 14,
   "metadata": {},
   "outputs": [
    {
     "name": "stdout",
     "output_type": "stream",
     "text": [
      "enter theb number: 23\n",
      "odd\n"
     ]
    }
   ],
   "source": [
    "def oddeven():\n",
    " num=int(input(\"enter theb number: \"))\n",
    " if(num%2==0):\n",
    "  print(\"even\")\n",
    " else:\n",
    "     print(\"odd\")\n",
    "oddeven()\n",
    "    \n"
   ]
  },
  {
   "cell_type": "code",
   "execution_count": null,
   "metadata": {},
   "outputs": [],
   "source": []
  }
 ],
 "metadata": {
  "kernelspec": {
   "display_name": "Python 3",
   "language": "python",
   "name": "python3"
  },
  "language_info": {
   "codemirror_mode": {
    "name": "ipython",
    "version": 3
   },
   "file_extension": ".py",
   "mimetype": "text/x-python",
   "name": "python",
   "nbconvert_exporter": "python",
   "pygments_lexer": "ipython3",
   "version": "3.7.4"
  }
 },
 "nbformat": 4,
 "nbformat_minor": 2
}
