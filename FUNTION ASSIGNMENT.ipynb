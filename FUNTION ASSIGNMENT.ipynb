{
 "cells": [
  {
   "cell_type": "code",
   "execution_count": 2,
   "metadata": {},
   "outputs": [
    {
     "name": "stdout",
     "output_type": "stream",
     "text": [
      "Sub-fields in AI are: \n",
      "Machine Learning\n",
      "Neural Networks\n",
      "Vision\n",
      "Robotics\n",
      "Speech Processing\n",
      "Natural Language Processing\n"
     ]
    }
   ],
   "source": [
    "def subfields():\n",
    "    list1=[\"Machine Learning\",\"Neural Networks\",\"Vision\",\"Robotics\",\"Speech Processing\",\"Natural Language Processing\"]\n",
    "    print(\"Sub-fields in AI are: \")\n",
    "    for i in list1:\n",
    "        print(i)\n",
    "    \n",
    "subfields()"
   ]
  },
  {
   "cell_type": "code",
   "execution_count": null,
   "metadata": {},
   "outputs": [],
   "source": [
    "#below program also gives an solution haha "
   ]
  },
  {
   "cell_type": "code",
   "execution_count": 3,
   "metadata": {},
   "outputs": [
    {
     "name": "stdout",
     "output_type": "stream",
     "text": [
      "Sub-fields in AI are: \n",
      "Machine Learning\n",
      "Neural Networks\n",
      "Vision\n",
      "Robotics\n",
      "Speech Processing\n",
      "Natural Language Processing\n"
     ]
    }
   ],
   "source": [
    "def subfields():\n",
    "    print(\"Sub-fields in AI are: \")\n",
    "    print(\"Machine Learning\")\n",
    "    print(\"Neural Networks\")\n",
    "    print(\"Vision\")\n",
    "    print(\"Robotics\")\n",
    "    print(\"Speech Processing\")\n",
    "    print(\"Natural Language Processing\")\n",
    "subfields()"
   ]
  },
  {
   "cell_type": "code",
   "execution_count": null,
   "metadata": {},
   "outputs": [],
   "source": [
    "#oddeven function"
   ]
  },
  {
   "cell_type": "code",
   "execution_count": 6,
   "metadata": {},
   "outputs": [
    {
     "name": "stdout",
     "output_type": "stream",
     "text": [
      "enter the number: 23\n",
      "23 odd\n"
     ]
    }
   ],
   "source": [
    "def oddeven():\n",
    "  num=int(input(\"enter the number: \"))\n",
    "  if(num%2==0):\n",
    "    print(num,\"even number\")\n",
    "  else:\n",
    "    print(num,\"odd number\")\n",
    "oddeven()"
   ]
  },
  {
   "cell_type": "code",
   "execution_count": 10,
   "metadata": {},
   "outputs": [
    {
     "name": "stdout",
     "output_type": "stream",
     "text": [
      "Subject1= 23\n",
      "Subject2= 45\n",
      "Subject3= 34\n",
      "Subject4= 23\n",
      "Subject5= 23\n",
      "Total :  148\n",
      "Percentage :  29.599999999999998\n"
     ]
    }
   ],
   "source": [
    "def percentage():\n",
    "  m1=int(input(\"Subject1= \"))\n",
    "  m2=int(input(\"Subject2= \"))\n",
    "  m3=int(input(\"Subject3= \"))\n",
    "  m4=int(input(\"Subject4= \"))\n",
    "  m5=int(input(\"Subject5= \"))\n",
    "  Total = m1+m2+m3+m4+m5\n",
    "  print(\"Total : \",m1+m2+m3+m4+m5)\n",
    "  Percent = (Total / 500) * 100\n",
    "  print(\"Percentage : \",Percent)\n",
    "percentage()"
   ]
  },
  {
   "cell_type": "code",
   "execution_count": 11,
   "metadata": {},
   "outputs": [
    {
     "name": "stdout",
     "output_type": "stream",
     "text": [
      "Height:3\n",
      "Breadth:4\n",
      "Area formula: (Height*Breadth)/2\n",
      "Area of Triangle:  6.0\n",
      "Height1:3\n",
      "Height2:4\n",
      "Breadth:45\n",
      "Perimeter formula: Height1+Height2+Breadth\n",
      "Perimeter of Triangle:  52\n"
     ]
    }
   ],
   "source": [
    "def triangle():\n",
    "  Height=int(input(\"Height:\"))\n",
    "  breadth=int(input(\"Breadth:\"))\n",
    "  print(\"Area formula: (Height*Breadth)/2\")\n",
    "  print(\"Area of Triangle: \",(Height*breadth)/2)\n",
    "  Height1=int(input(\"Height1:\"))\n",
    "  Height2=int(input(\"Height2:\"))\n",
    "  breadth=int(input(\"Breadth:\"))\n",
    "  print(\"Perimeter formula: Height1+Height2+Breadth\")\n",
    "  print(\"Perimeter of Triangle: \",Height1+Height2+breadth)\n",
    "triangle()"
   ]
  },
  {
   "cell_type": "code",
   "execution_count": null,
   "metadata": {},
   "outputs": [],
   "source": []
  },
  {
   "cell_type": "code",
   "execution_count": null,
   "metadata": {},
   "outputs": [],
   "source": [
    "3\n"
   ]
  }
 ],
 "metadata": {
  "kernelspec": {
   "display_name": "Python 3",
   "language": "python",
   "name": "python3"
  },
  "language_info": {
   "codemirror_mode": {
    "name": "ipython",
    "version": 3
   },
   "file_extension": ".py",
   "mimetype": "text/x-python",
   "name": "python",
   "nbconvert_exporter": "python",
   "pygments_lexer": "ipython3",
   "version": "3.7.4"
  }
 },
 "nbformat": 4,
 "nbformat_minor": 2
}
