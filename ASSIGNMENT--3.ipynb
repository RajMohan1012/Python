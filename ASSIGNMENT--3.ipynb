{
 "cells": [
  {
   "cell_type": "code",
   "execution_count": null,
   "metadata": {},
   "outputs": [],
   "source": [
    "i=int(input(\"value: \"))\n",
    "if(i==10):\n",
    "    print(\"correct\")\n"
   ]
  },
  {
   "cell_type": "code",
   "execution_count": null,
   "metadata": {},
   "outputs": [],
   "source": [
    "#password checking"
   ]
  },
  {
   "cell_type": "code",
   "execution_count": 2,
   "metadata": {},
   "outputs": [
    {
     "name": "stdout",
     "output_type": "stream",
     "text": [
      "Enter your password: HOPE@123\n",
      "correct\n"
     ]
    }
   ],
   "source": [
    "password =input(\"Enter your password: \")\n",
    "if(password== \"HOPE@123\"):\n",
    "    print(\"correct\")\n",
    "else:\n",
    "    print(\"password incorrect\")\n",
    "    "
   ]
  },
  {
   "cell_type": "code",
   "execution_count": 6,
   "metadata": {},
   "outputs": [
    {
     "name": "stdout",
     "output_type": "stream",
     "text": [
      "Enter your age: 20\n",
      "adult\n"
     ]
    }
   ],
   "source": [
    "age=int(input(\"Enter your age: \"))\n",
    "if(age<18):\n",
    "    print(\"children\")\n",
    "elif(age>=18 and age<=30):\n",
    "    print(\"adult\")\n",
    "elif(age>30 and age<50):\n",
    "    print(\"citizen\")\n",
    "else:\n",
    "    print(\"senior citizen\")\n",
    "    \n",
    "    "
   ]
  },
  {
   "cell_type": "code",
   "execution_count": null,
   "metadata": {},
   "outputs": [],
   "source": [
    "finding given number is positive or negative"
   ]
  },
  {
   "cell_type": "code",
   "execution_count": 9,
   "metadata": {},
   "outputs": [
    {
     "name": "stdout",
     "output_type": "stream",
     "text": [
      "Enter the number: 1\n",
      "1 is positive\n"
     ]
    }
   ],
   "source": [
    "number=int(input(\"Enter the number: \"))\n",
    "if(number<0):\n",
    "    print(number,\" is negative\")\n",
    "else:\n",
    "    print(number,\"is positive\")"
   ]
  },
  {
   "cell_type": "code",
   "execution_count": null,
   "metadata": {},
   "outputs": [],
   "source": [
    "# checking whether the given number divisible by 5"
   ]
  },
  {
   "cell_type": "code",
   "execution_count": 12,
   "metadata": {},
   "outputs": [
    {
     "name": "stdout",
     "output_type": "stream",
     "text": [
      "enter the number100\n",
      "100 divisible by 5\n"
     ]
    }
   ],
   "source": [
    "number=int(input(\"enter the number\"))\n",
    "if(number%5!=0):\n",
    "    print(number,\"is not divisible by 5\")\n",
    "else:\n",
    "    print(number,\"divisible by 5\")"
   ]
  },
  {
   "cell_type": "code",
   "execution_count": null,
   "metadata": {},
   "outputs": [],
   "source": []
  }
 ],
 "metadata": {
  "kernelspec": {
   "display_name": "Python 3",
   "language": "python",
   "name": "python3"
  },
  "language_info": {
   "codemirror_mode": {
    "name": "ipython",
    "version": 3
   },
   "file_extension": ".py",
   "mimetype": "text/x-python",
   "name": "python",
   "nbconvert_exporter": "python",
   "pygments_lexer": "ipython3",
   "version": "3.7.4"
  }
 },
 "nbformat": 4,
 "nbformat_minor": 2
}
