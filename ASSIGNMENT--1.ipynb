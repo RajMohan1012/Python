{
 "cells": [
  {
   "cell_type": "code",
   "execution_count": 1,
   "metadata": {},
   "outputs": [
    {
     "name": "stdout",
     "output_type": "stream",
     "text": [
      "HOEP AI\n"
     ]
    }
   ],
   "source": [
    "print(\"HOEP AI\")\n"
   ]
  },
  {
   "cell_type": "code",
   "execution_count": 3,
   "metadata": {},
   "outputs": [
    {
     "name": "stdout",
     "output_type": "stream",
     "text": [
      "Enter your institute name? :HOPE AI\n",
      "Enter your institute name? : HOPE AI\n"
     ]
    }
   ],
   "source": [
    "x=input(\"Enter your institute name? :\")\n",
    "print(\"Enter your institute name? :\",x)"
   ]
  },
  {
   "cell_type": "code",
   "execution_count": 15,
   "metadata": {},
   "outputs": [
    {
     "name": "stdout",
     "output_type": "stream",
     "text": [
      "Enter your name : Raj\n",
      "Enter your age: 15\n",
      "Enter your school name :Guru school\n",
      "Enter your degree: B.E CSE\n",
      "________________________________\n",
      "Enter your name :  Raj\n",
      "Enter your age :  15\n",
      "Enter your school name :  Guru school\n",
      "Enter your degree :  B.E CSE\n"
     ]
    }
   ],
   "source": [
    "name = input(\"Enter your name : \")\n",
    "age= int(input(\"Enter your age: \"))\n",
    "Sname=input(\"Enter your school name :\")\n",
    "degree=input(\"Enter your degree: \")\n",
    "print(\"________________________________\")\n",
    "print(\"Enter your name : \",name)\n",
    "print(\"Enter your age : \",age)\n",
    "print(\"Enter your school name : \",Sname)\n",
    "print(\"Enter your degree : \",degree)"
   ]
  },
  {
   "cell_type": "code",
   "execution_count": null,
   "metadata": {},
   "outputs": [],
   "source": [
    "#ADDITION"
   ]
  },
  {
   "cell_type": "code",
   "execution_count": 6,
   "metadata": {},
   "outputs": [
    {
     "name": "stdout",
     "output_type": "stream",
     "text": [
      "add =  77\n"
     ]
    }
   ],
   "source": [
    "A=43\n",
    "B=34\n",
    "print(\"add = \",A+B)"
   ]
  },
  {
   "cell_type": "code",
   "execution_count": null,
   "metadata": {},
   "outputs": [],
   "source": [
    "#SUBTRACTION"
   ]
  },
  {
   "cell_type": "code",
   "execution_count": 7,
   "metadata": {},
   "outputs": [
    {
     "name": "stdout",
     "output_type": "stream",
     "text": [
      "add =  9\n"
     ]
    }
   ],
   "source": [
    "A=43\n",
    "B=34\n",
    "print(\"add = \",A-B)"
   ]
  },
  {
   "cell_type": "code",
   "execution_count": null,
   "metadata": {},
   "outputs": [],
   "source": [
    "#MULTIPLICATON"
   ]
  },
  {
   "cell_type": "code",
   "execution_count": 9,
   "metadata": {},
   "outputs": [
    {
     "name": "stdout",
     "output_type": "stream",
     "text": [
      "Mul =  6111\n"
     ]
    }
   ],
   "source": [
    "a=63\n",
    "b=97\n",
    "print(\"Mul = \",a*b)"
   ]
  },
  {
   "cell_type": "code",
   "execution_count": null,
   "metadata": {},
   "outputs": [],
   "source": [
    "#DIVISION"
   ]
  },
  {
   "cell_type": "code",
   "execution_count": 11,
   "metadata": {},
   "outputs": [
    {
     "name": "stdout",
     "output_type": "stream",
     "text": [
      "DIV 2.4516129032258065\n"
     ]
    }
   ],
   "source": [
    "A=76\n",
    "B=31\n",
    "print(\"DIV\",A/B)"
   ]
  },
  {
   "cell_type": "code",
   "execution_count": null,
   "metadata": {},
   "outputs": [],
   "source": [
    "#FLOOR DIVISION"
   ]
  },
  {
   "cell_type": "code",
   "execution_count": 12,
   "metadata": {},
   "outputs": [
    {
     "name": "stdout",
     "output_type": "stream",
     "text": [
      "DIV 2\n"
     ]
    }
   ],
   "source": [
    "A=76\n",
    "B=31\n",
    "print(\"DIV\",A//B)"
   ]
  },
  {
   "cell_type": "code",
   "execution_count": null,
   "metadata": {},
   "outputs": [],
   "source": [
    "#MODULO"
   ]
  },
  {
   "cell_type": "code",
   "execution_count": 13,
   "metadata": {},
   "outputs": [
    {
     "name": "stdout",
     "output_type": "stream",
     "text": [
      "DIV 14\n"
     ]
    }
   ],
   "source": [
    "A=76\n",
    "B=31\n",
    "print(\"DIV\",A%B)"
   ]
  },
  {
   "cell_type": "code",
   "execution_count": null,
   "metadata": {},
   "outputs": [],
   "source": [
    "#POWER OPERATOR"
   ]
  },
  {
   "cell_type": "code",
   "execution_count": 14,
   "metadata": {},
   "outputs": [
    {
     "name": "stdout",
     "output_type": "stream",
     "text": [
      "Power 256\n"
     ]
    }
   ],
   "source": [
    "a=4\n",
    "b=4\n",
    "print(\"Power\",a**b)"
   ]
  },
  {
   "cell_type": "code",
   "execution_count": null,
   "metadata": {},
   "outputs": [],
   "source": []
  }
 ],
 "metadata": {
  "kernelspec": {
   "display_name": "Python 3",
   "language": "python",
   "name": "python3"
  },
  "language_info": {
   "codemirror_mode": {
    "name": "ipython",
    "version": 3
   },
   "file_extension": ".py",
   "mimetype": "text/x-python",
   "name": "python",
   "nbconvert_exporter": "python",
   "pygments_lexer": "ipython3",
   "version": "3.7.4"
  }
 },
 "nbformat": 4,
 "nbformat_minor": 2
}
